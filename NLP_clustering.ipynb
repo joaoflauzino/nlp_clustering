{
 "nbformat": 4,
 "nbformat_minor": 2,
 "metadata": {
  "language_info": {
   "name": "python",
   "codemirror_mode": {
    "name": "ipython",
    "version": 3
   },
   "version": "3.7.3-final"
  },
  "orig_nbformat": 2,
  "file_extension": ".py",
  "mimetype": "text/x-python",
  "name": "python",
  "npconvert_exporter": "python",
  "pygments_lexer": "ipython3",
  "version": 3,
  "kernelspec": {
   "name": "python37364bit24ed743946d3453c98b85cec80aaaa46",
   "display_name": "Python 3.7.3 64-bit"
  }
 },
 "cells": [
  {
   "cell_type": "code",
   "execution_count": 160,
   "metadata": {},
   "outputs": [],
   "source": [
    "from sklearn.feature_extraction.text import TfidfVectorizer\n",
    "from sklearn.cluster import KMeans\n",
    "import numpy as np\n",
    "import pandas as pd\n",
    "import nltk\n",
    "from nltk.corpus import stopwords\n",
    "from nltk.tokenize import word_tokenize\n",
    "from unidecode import unidecode "
   ]
  },
  {
   "cell_type": "code",
   "execution_count": 161,
   "metadata": {},
   "outputs": [],
   "source": [
    "stop = set(stopwords.words('portuguese'))\n",
    "stops = [unidecode(word).lower() for word in stop]"
   ]
  },
  {
   "cell_type": "code",
   "execution_count": 162,
   "metadata": {},
   "outputs": [],
   "source": [
    "# Document with all texts\n",
    "document = [\"A inteligencia artificial é demais\", \"Como os robos são legais devido a inteligencia artificial\", \"Sera que a inteligencia artificial comandará o mundo\", \"Eu acho que a inteligencia artificial vai morrer\", \"Os livros são muito bons\", \"Temos que estudar mais literatura\", \"Sera que um dia as pessoas vão ler mais\", \"Sera que a leitura vai fazer parte do cotidiano brasileiro\", \"Já viu aquele video do MIT com o robos atirando? Que inteligência\", \"A população precisa aprender a ler urgentemente\"]"
   ]
  },
  {
   "cell_type": "code",
   "execution_count": 163,
   "metadata": {},
   "outputs": [],
   "source": [
    "# Clean text\n",
    "clean_document = []\n",
    "\n",
    "for sentence in document:\n",
    "    \n",
    "    word_tokens = word_tokenize(unidecode(sentence.lower())) \n",
    "  \n",
    "    filtered_sentence = [w for w in word_tokens if not w in stops] \n",
    "  \n",
    "    filtered_sentence = [] \n",
    "  \n",
    "    for w in word_tokens: \n",
    "        if w not in stops: \n",
    "            filtered_sentence.append(w)\n",
    "\n",
    "    clean_document.append(' '.join(filtered_sentence))"
   ]
  },
  {
   "cell_type": "code",
   "execution_count": 164,
   "metadata": {},
   "outputs": [],
   "source": [
    "# Using TfidfVectorizer class to fit and transform the document\n",
    "vectorizer = TfidfVectorizer()\n",
    "X = vectorizer.fit_transform(document)"
   ]
  },
  {
   "cell_type": "code",
   "execution_count": 165,
   "metadata": {},
   "outputs": [
    {
     "output_type": "execute_result",
     "data": {
      "text/plain": "KMeans(algorithm='auto', copy_x=True, init='k-means++', max_iter=100,\n       n_clusters=2, n_init=1, n_jobs=None, precompute_distances='auto',\n       random_state=None, tol=0.0001, verbose=0)"
     },
     "metadata": {},
     "execution_count": 165
    }
   ],
   "source": [
    "# Implementing k-means\n",
    "true_k = 2\n",
    "model = KMeans(n_clusters=true_k, init='k-means++', max_iter=100, n_init=1)\n",
    "model.fit(X)"
   ]
  },
  {
   "cell_type": "code",
   "execution_count": 166,
   "metadata": {},
   "outputs": [],
   "source": [
    "# Get the centroids features\n",
    "order_centroids_ = model.cluster_centers_.argsort()[:, ::-1]\n",
    "terms_ = vectorizer.get_feature_names()"
   ]
  },
  {
   "cell_type": "code",
   "execution_count": 174,
   "metadata": {},
   "outputs": [
    {
     "output_type": "stream",
     "name": "stdout",
     "text": "\nCluster 0: \n\ninteligencia\nartificial\nsão\nos\ndemais\nque\ncomandará\nmundo\nmuito\nlivros\n\nCluster 1: \n\nque\nmais\ndo\nsera\ntemos\nestudar\nliteratura\nvão\nparte\nas\n"
    }
   ],
   "source": [
    "# Print the centroids for evaluate each group\n",
    "for i in range(true_k):\n",
    "    print('\\nCluster %d: \\n' % i),\n",
    "    for ind in order_centroids_[i, :10]:\n",
    "        print('%s' % terms_[ind])"
   ]
  },
  {
   "cell_type": "code",
   "execution_count": 177,
   "metadata": {},
   "outputs": [
    {
     "output_type": "stream",
     "name": "stdout",
     "text": "Predição:\n  Cluster: [0]\n"
    }
   ],
   "source": [
    "X = vectorizer.transform(['Vamos estudar inteligência artificial'])\n",
    "predicted = model.predict(X)\n",
    "print(\"Predição:\\n  Cluster:\" , predicted)"
   ]
  }
 ]
}
